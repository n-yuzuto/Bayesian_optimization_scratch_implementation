{
  "nbformat": 4,
  "nbformat_minor": 0,
  "metadata": {
    "colab": {
      "name": "Bayesian_optimization_scratch_implementation_20220806.ipynb",
      "provenance": [],
      "collapsed_sections": []
    },
    "kernelspec": {
      "name": "python3",
      "display_name": "Python 3"
    },
    "language_info": {
      "name": "python"
    }
  },
  "cells": [
    {
      "cell_type": "code",
      "source": [
        "import matplotlib.pyplot as plt\n",
        "import numpy as np\n",
        "import random"
      ],
      "metadata": {
        "id": "bD3bgiqzYJ3K"
      },
      "execution_count": null,
      "outputs": []
    },
    {
      "cell_type": "code",
      "source": [
        "def kernel(x, x_prime, theta_1=1, theta_2=0.4, theta_3=0.1):\n",
        "    if x == x_prime:\n",
        "      delta = 1\n",
        "    elif x != x_prime:\n",
        "      delta = 0\n",
        "    return theta_1 * np.exp(- (x-x_prime)**2 / theta_2) + theta_3 * delta\n",
        "\n",
        "def GP_regression(x_train, y_train, x_test):\n",
        "    N = len(x_train)\n",
        "    M = len(x_test)\n",
        "    K = np.zeros((N,N))\n",
        "    k = np.zeros(N)\n",
        "    mu = np.zeros(M)\n",
        "    var = np.zeros(M)\n",
        "\n",
        "    for i in range(N):\n",
        "      for j in range(N):\n",
        "          K[i][j] = kernel(x_train[i],x_train[j])\n",
        "    K_inv = np.linalg.inv(K)\n",
        "    yy = np.dot(K_inv, y_train)\n",
        "\n",
        "    for i in range(M):\n",
        "      for j in range(N):\n",
        "        k[j] = kernel(x_train[j], x_test[i])\n",
        "      s = kernel(x_test[i],x_test[i])\n",
        "      mu[i] = np.dot(k.T,yy)\n",
        "      var[i] = s - np.dot(np.dot(k.T, K_inv), k)\n",
        "      \n",
        "    return mu, var\n"
      ],
      "metadata": {
        "id": "sgcen7F08l-4"
      },
      "execution_count": 49,
      "outputs": []
    },
    {
      "cell_type": "code",
      "source": [
        "# ガウス過程回帰ができているか実験\n",
        "\n",
        "x = np.linspace(0,5*np.pi, 1000)\n",
        "x_train = np.linspace(0, 4*np.pi, 100)\n",
        "y_train = np.sin(x_train) + np.random.rand(100) * 0.1\n",
        "mu, var = GP_regression(x_train, y_train, x)\n",
        "\n",
        "\n",
        "std = np.sqrt(var)\n",
        "plt.plot(x, mu, color='blue', label='mean by Gaussian process')\n",
        "plt.fill_between(x, mu + 2*std, mu - 2*std, alpha=.2, color='blue', label= 'standard deviation by Gaussian process')\n",
        "plt.legend(bbox_to_anchor=(1.05, 1), loc='upper left', borderaxespad=0, fontsize=12)\n",
        "plt.show()\n",
        "\n",
        "# 平均値±(標準偏差×2) … 95.4%の確率で範囲内に指定の数値が現れる"
      ],
      "metadata": {
        "colab": {
          "base_uri": "https://localhost:8080/",
          "height": 302
        },
        "id": "mK76jSH076Q8",
        "outputId": "74b7a49f-5204-4c3a-9526-a35b8661225c"
      },
      "execution_count": 50,
      "outputs": [
        {
          "output_type": "stream",
          "name": "stderr",
          "text": [
            "/usr/local/lib/python3.7/dist-packages/ipykernel_launcher.py:11: RuntimeWarning: invalid value encountered in sqrt\n",
            "  # This is added back by InteractiveShellApp.init_path()\n"
          ]
        },
        {
          "output_type": "display_data",
          "data": {
            "text/plain": [
              "<Figure size 432x288 with 1 Axes>"
            ],
            "image/png": "[encoded data removed]"
          },
          "metadata": {
            "needs_background": "light"
          }
        }
      ]
    },
    {
      "cell_type": "code",
      "source": [
        "def make_graph_of_GP_regression(x,mu,var,x_train, y_train, index):\n",
        "  plt.clf()\n",
        "  std = np.sqrt(var)\n",
        "  plt.plot(x, mu, color='blue', label='mean by Gaussian process')\n",
        "  plt.plot(x_train, y_train, \"x\")\n",
        "  plt.fill_between(x, mu + 2*std, mu - 2*std, alpha=.2, color='blue', label= 'standard deviation by Gaussian process')\n",
        "  plt.legend(bbox_to_anchor=(1.05, 1), loc='upper left', borderaxespad=0, fontsize=12)\n",
        "  plt.savefig(\"check{}.png\".format(index))"
      ],
      "metadata": {
        "id": "r0ymaSnTM50l"
      },
      "execution_count": 65,
      "outputs": []
    },
    {
      "cell_type": "code",
      "source": [
        "def build_acquisition_function(mu, var, beta=100):\n",
        "  a = mu + np.sqrt(np.log(beta) / beta) * var\n",
        "  return a\n",
        "\n",
        "def optimize_acquisition_function(a):\n",
        "  max_index = []\n",
        "  for i, x in enumerate(a):\n",
        "    if x == max(a):\n",
        "      max_index.append(i)\n",
        "  return max_index"
      ],
      "metadata": {
        "id": "d9lvVo5lEiFA"
      },
      "execution_count": 74,
      "outputs": []
    },
    {
      "cell_type": "code",
      "source": [
        "def Bayesian_optimization(x_train, y_train, N=10):\n",
        "  n = 1000\n",
        "  x = np.linspace(0,4*np.pi, n)\n",
        "  for i in range(N):\n",
        "    print(\"現在 {}回目の実験です。\".format(i))\n",
        "    mu, var = GP_regression(x_train, y_train, x)\n",
        "    if i % 20 == 0:\n",
        "      make_graph_of_GP_regression(x,mu,var,x_train, y_train, i)\n",
        "    a = build_acquisition_function(mu, var)\n",
        "   \n",
        "    max_index = optimize_acquisition_function(a)\n",
        "    # print(max_index)   \n",
        "    # x_next = np.argmax(a)とすると、x_nextがx_train内にある点になる可能性がある。x_train内にある点になると、Kの逆行列が求められず、エラーを吐く。\n",
        "    # x_next = x[np.argmax(a)]\n",
        "    for j in range(len(max_index)):\n",
        "      if x[max_index[j]] in x_train:\n",
        "        print(\"argmaxの出力が観測点集合内の要素になっています\")\n",
        "        print(\"max_indexの要素は\", len(max_index))\n",
        "        if j != len(max_index)-1:\n",
        "          print(\"continueします\")\n",
        "          continue\n",
        "        elif j == len(max_index)-1:\n",
        "          print(\"argmaxの出力で観測できるものがありませんでした\")\n",
        "          for k in range(n):\n",
        "            x_next = x[random.randint(0, n-1)]\n",
        "            if x_next not in x_train:\n",
        "              break\n",
        "\n",
        "      elif x[max_index[j]] not in x_train:\n",
        "        x_next = x[max_index[j]]\n",
        "        break\n",
        "    print(x_next)\n",
        "    y = np.sin(x_next) + np.random.rand() * 0.01\n",
        "    print(\"x_next is here\", x_next)\n",
        "    print(\"y is here\", y)\n",
        "    x_train = np.append(x_train, x_next)\n",
        "    y_train = np.append(y_train, y)\n",
        "  return x_train, y_train"
      ],
      "metadata": {
        "id": "AbPidHxD7YWV"
      },
      "execution_count": 78,
      "outputs": []
    },
    {
      "cell_type": "code",
      "source": [
        "import numpy as np\n",
        "import random\n",
        "n = 4\n",
        "\n",
        "x_train = np.linspace(0, 4*np.pi, n)\n",
        "y_train = np.sin(x_train) + np.random.rand(n) * 0.1\n",
        "\n",
        "\n",
        "from matplotlib import pyplot as plt\n",
        "%matplotlib inline\n",
        "\n",
        "plt.figure(figsize=(12, 5))\n",
        "plt.title('signal data', fontsize=20)\n",
        "\n",
        "# 元の信号\n",
        "plt.plot(x_train, y_train, 'x', color='blue', label='observation_data')\n",
        "\n",
        "plt.legend(bbox_to_anchor=(1.05, 1), loc='upper left', borderaxespad=0, fontsize=12)\n",
        "plt.show()"
      ],
      "metadata": {
        "colab": {
          "base_uri": "https://localhost:8080/",
          "height": 341
        },
        "id": "Yy-vv7JT9DRo",
        "outputId": "49efeac8-38a6-43f6-a0dd-382f54a0ce46"
      },
      "execution_count": 79,
      "outputs": [
        {
          "output_type": "display_data",
          "data": {
            "text/plain": [
              "<Figure size 864x360 with 1 Axes>"
            ],
            "image/png": "[encoded data removed]"
          },
          "metadata": {
            "needs_background": "light"
          }
        }
      ]
    },
    {
      "cell_type": "code",
      "source": [
        "D_x, D_y = Bayesian_optimization(x_train, y_train, N=100)\n",
        "plt.plot(x_train, y_train, 'x', color='blue', label='correct signal')\n",
        "plt.show()"
      ],
      "metadata": {
        "colab": {
          "base_uri": "https://localhost:8080/",
          "height": 1000
        },
        "id": "l33abELL9abP",
        "outputId": "df5d5da7-4e1d-440e-c517-d0b177a4aa8a"
      },
      "execution_count": 80,
      "outputs": [
        {
          "output_type": "stream",
          "name": "stdout",
          "text": [
            "現在 0回目の実験です。\n",
            "argmaxの出力が観測点集合内の要素になっています\n",
            "max_indexの要素は 1\n",
            "argmaxの出力で観測できるものがありませんでした\n",
            "5.4466851611787\n",
            "x_next is here 5.4466851611787\n",
            "y is here -0.738313693456017\n",
            "現在 1回目の実験です。\n",
            "argmaxの出力が観測点集合内の要素になっています\n",
            "max_indexの要素は 1\n",
            "argmaxの出力で観測できるものがありませんでした\n",
            "11.534896750117477\n",
            "x_next is here 11.534896750117477\n",
            "y is here -0.857545550828043\n",
            "現在 2回目の実験です。\n",
            "argmaxの出力が観測点集合内の要素になっています\n",
            "max_indexの要素は 1\n",
            "argmaxの出力で観測できるものがありませんでした\n",
            "9.258106879047398\n",
            "x_next is here 9.258106879047398\n",
            "y is here 0.17172509944930733\n",
            "現在 3回目の実験です。\n"
          ]
        },
        {
          "output_type": "stream",
          "name": "stderr",
          "text": [
            "/usr/local/lib/python3.7/dist-packages/ipykernel_launcher.py:5: RuntimeWarning: invalid value encountered in sqrt\n",
            "  \"\"\"\n"
          ]
        },
        {
          "output_type": "stream",
          "name": "stdout",
          "text": [
            "argmaxの出力が観測点集合内の要素になっています\n",
            "max_indexの要素は 1\n",
            "argmaxの出力で観測できるものがありませんでした\n",
            "11.899686287471248\n",
            "x_next is here 11.899686287471248\n",
            "y is here -0.6127136459857132\n",
            "現在 4回目の実験です。\n",
            "argmaxの出力が観測点集合内の要素になっています\n",
            "max_indexの要素は 1\n",
            "argmaxの出力で観測できるものがありませんでした\n",
            "5.886948395916009\n",
            "x_next is here 5.886948395916009\n",
            "y is here -0.38024063151988513\n",
            "現在 5回目の実験です。\n"
          ]
        },
        {
          "output_type": "stream",
          "name": "stderr",
          "text": [
            "/usr/local/lib/python3.7/dist-packages/ipykernel_launcher.py:5: RuntimeWarning: invalid value encountered in sqrt\n",
            "  \"\"\"\n"
          ]
        },
        {
          "output_type": "stream",
          "name": "stdout",
          "text": [
            "argmaxの出力が観測点集合内の要素になっています\n",
            "max_indexの要素は 1\n",
            "argmaxの出力で観測できるものがありませんでした\n",
            "4.9561061281856995\n",
            "x_next is here 4.9561061281856995\n",
            "y is here -0.967963701220295\n",
            "現在 6回目の実験です。\n"
          ]
        },
        {
          "output_type": "stream",
          "name": "stderr",
          "text": [
            "/usr/local/lib/python3.7/dist-packages/ipykernel_launcher.py:5: RuntimeWarning: invalid value encountered in sqrt\n",
            "  \"\"\"\n"
          ]
        },
        {
          "output_type": "stream",
          "name": "stdout",
          "text": [
            "argmaxの出力が観測点集合内の要素になっています\n",
            "max_indexの要素は 1\n",
            "argmaxの出力で観測できるものがありませんでした\n",
            "6.767474865390625\n",
            "x_next is here 6.767474865390625\n",
            "y is here 0.4684224177909391\n",
            "現在 7回目の実験です。\n"
          ]
        },
        {
          "output_type": "stream",
          "name": "stderr",
          "text": [
            "/usr/local/lib/python3.7/dist-packages/ipykernel_launcher.py:5: RuntimeWarning: invalid value encountered in sqrt\n",
            "  \"\"\"\n"
          ]
        },
        {
          "output_type": "stream",
          "name": "stdout",
          "text": [
            "argmaxの出力が観測点集合内の要素になっています\n",
            "max_indexの要素は 1\n",
            "argmaxの出力で観測できるものがありませんでした\n",
            "8.478212006084165\n",
            "x_next is here 8.478212006084165\n",
            "y is here 0.8140265884210411\n",
            "現在 8回目の実験です。\n"
          ]
        },
        {
          "output_type": "stream",
          "name": "stderr",
          "text": [
            "/usr/local/lib/python3.7/dist-packages/ipykernel_launcher.py:5: RuntimeWarning: invalid value encountered in sqrt\n",
            "  \"\"\"\n"
          ]
        },
        {
          "output_type": "stream",
          "name": "stdout",
          "text": [
            "argmaxの出力が観測点集合内の要素になっています\n",
            "max_indexの要素は 1\n",
            "argmaxの出力で観測できるものがありませんでした\n",
            "8.45305410695632\n",
            "x_next is here 8.45305410695632\n",
            "y is here 0.8275093717792243\n",
            "現在 9回目の実験です。\n"
          ]
        },
        {
          "output_type": "stream",
          "name": "stderr",
          "text": [
            "/usr/local/lib/python3.7/dist-packages/ipykernel_launcher.py:5: RuntimeWarning: invalid value encountered in sqrt\n",
            "  \"\"\"\n"
          ]
        },
        {
          "output_type": "stream",
          "name": "stdout",
          "text": [
            "argmaxの出力が観測点集合内の要素になっています\n",
            "max_indexの要素は 1\n",
            "argmaxの出力で観測できるものがありませんでした\n",
            "2.427737265837157\n",
            "x_next is here 2.427737265837157\n",
            "y is here 0.6633390452794545\n",
            "現在 10回目の実験です。\n"
          ]
        },
        {
          "output_type": "stream",
          "name": "stderr",
          "text": [
            "/usr/local/lib/python3.7/dist-packages/ipykernel_launcher.py:5: RuntimeWarning: invalid value encountered in sqrt\n",
            "  \"\"\"\n"
          ]
        },
        {
          "output_type": "stream",
          "name": "stdout",
          "text": [
            "argmaxの出力が観測点集合内の要素になっています\n",
            "max_indexの要素は 1\n",
            "argmaxの出力で観測できるものがありませんでした\n",
            "8.830422593874012\n",
            "x_next is here 8.830422593874012\n",
            "y is here 0.5691231628900576\n",
            "現在 11回目の実験です。\n"
          ]
        },
        {
          "output_type": "stream",
          "name": "stderr",
          "text": [
            "/usr/local/lib/python3.7/dist-packages/ipykernel_launcher.py:5: RuntimeWarning: invalid value encountered in sqrt\n",
            "  \"\"\"\n"
          ]
        },
        {
          "output_type": "stream",
          "name": "stdout",
          "text": [
            "argmaxの出力が観測点集合内の要素になっています\n",
            "max_indexの要素は 1\n",
            "argmaxの出力で観測できるものがありませんでした\n",
            "2.226474072814388\n",
            "x_next is here 2.226474072814388\n",
            "y is here 0.7933968478435673\n",
            "現在 12回目の実験です。\n"
          ]
        },
        {
          "output_type": "stream",
          "name": "stderr",
          "text": [
            "/usr/local/lib/python3.7/dist-packages/ipykernel_launcher.py:5: RuntimeWarning: invalid value encountered in sqrt\n",
            "  \"\"\"\n"
          ]
        },
        {
          "output_type": "stream",
          "name": "stdout",
          "text": [
            "argmaxの出力が観測点集合内の要素になっています\n",
            "max_indexの要素は 1\n",
            "argmaxの出力で観測できるものがありませんでした\n",
            "4.71710608647116\n",
            "x_next is here 4.71710608647116\n",
            "y is here -0.9986353758562863\n",
            "現在 13回目の実験です。\n"
          ]
        },
        {
          "output_type": "stream",
          "name": "stderr",
          "text": [
            "/usr/local/lib/python3.7/dist-packages/ipykernel_launcher.py:5: RuntimeWarning: invalid value encountered in sqrt\n",
            "  \"\"\"\n"
          ]
        },
        {
          "output_type": "stream",
          "name": "stdout",
          "text": [
            "argmaxの出力が観測点集合内の要素になっています\n",
            "max_indexの要素は 1\n",
            "argmaxの出力で観測できるものがありませんでした\n",
            "0.6792632764518471\n",
            "x_next is here 0.6792632764518471\n",
            "y is here 0.6379348600539451\n",
            "現在 14回目の実験です。\n"
          ]
        },
        {
          "output_type": "stream",
          "name": "stderr",
          "text": [
            "/usr/local/lib/python3.7/dist-packages/ipykernel_launcher.py:5: RuntimeWarning: invalid value encountered in sqrt\n",
            "  \"\"\"\n"
          ]
        },
        {
          "output_type": "stream",
          "name": "stdout",
          "text": [
            "argmaxの出力が観測点集合内の要素になっています\n",
            "max_indexの要素は 1\n",
            "argmaxの出力で観測できるものがありませんでした\n",
            "3.471790079642774\n",
            "x_next is here 3.471790079642774\n",
            "y is here -0.3175052010312498\n",
            "現在 15回目の実験です。\n"
          ]
        },
        {
          "output_type": "stream",
          "name": "stderr",
          "text": [
            "/usr/local/lib/python3.7/dist-packages/ipykernel_launcher.py:5: RuntimeWarning: invalid value encountered in sqrt\n",
            "  \"\"\"\n"
          ]
        },
        {
          "output_type": "stream",
          "name": "stdout",
          "text": [
            "argmaxの出力が観測点集合内の要素になっています\n",
            "max_indexの要素は 1\n",
            "argmaxの出力で観測できるものがありませんでした\n",
            "12.352528471772478\n",
            "x_next is here 12.352528471772478\n",
            "y is here -0.20283696823895128\n",
            "現在 16回目の実験です。\n"
          ]
        },
        {
          "output_type": "stream",
          "name": "stderr",
          "text": [
            "/usr/local/lib/python3.7/dist-packages/ipykernel_launcher.py:5: RuntimeWarning: invalid value encountered in sqrt\n",
            "  \"\"\"\n"
          ]
        },
        {
          "output_type": "stream",
          "name": "stdout",
          "text": [
            "argmaxの出力が観測点集合内の要素になっています\n",
            "max_indexの要素は 1\n",
            "argmaxの出力で観測できるものがありませんでした\n",
            "4.364895498681314\n",
            "x_next is here 4.364895498681314\n",
            "y is here -0.9329161716419886\n",
            "現在 17回目の実験です。\n"
          ]
        },
        {
          "output_type": "stream",
          "name": "stderr",
          "text": [
            "/usr/local/lib/python3.7/dist-packages/ipykernel_launcher.py:5: RuntimeWarning: invalid value encountered in sqrt\n",
            "  \"\"\"\n"
          ]
        },
        {
          "output_type": "stream",
          "name": "stdout",
          "text": [
            "argmaxの出力が観測点集合内の要素になっています\n",
            "max_indexの要素は 1\n",
            "argmaxの出力で観測できるものがありませんでした\n",
            "6.4278432271647015\n",
            "x_next is here 6.4278432271647015\n",
            "y is here 0.14839060119859795\n",
            "現在 18回目の実験です。\n"
          ]
        },
        {
          "output_type": "stream",
          "name": "stderr",
          "text": [
            "/usr/local/lib/python3.7/dist-packages/ipykernel_launcher.py:5: RuntimeWarning: invalid value encountered in sqrt\n",
            "  \"\"\"\n"
          ]
        },
        {
          "output_type": "stream",
          "name": "stdout",
          "text": [
            "argmaxの出力が観測点集合内の要素になっています\n",
            "max_indexの要素は 1\n",
            "argmaxの出力で観測できるものがありませんでした\n",
            "10.327317591980862\n",
            "x_next is here 10.327317591980862\n",
            "y is here -0.7781586135257034\n",
            "現在 19回目の実験です。\n"
          ]
        },
        {
          "output_type": "stream",
          "name": "stderr",
          "text": [
            "/usr/local/lib/python3.7/dist-packages/ipykernel_launcher.py:5: RuntimeWarning: invalid value encountered in sqrt\n",
            "  \"\"\"\n"
          ]
        },
        {
          "output_type": "stream",
          "name": "stdout",
          "text": [
            "argmaxの出力が観測点集合内の要素になっています\n",
            "max_indexの要素は 1\n",
            "argmaxの出力で観測できるものがありませんでした\n",
            "5.220264069028084\n",
            "x_next is here 5.220264069028084\n",
            "y is here -0.8673218835596049\n",
            "現在 20回目の実験です。\n"
          ]
        },
        {
          "output_type": "stream",
          "name": "stderr",
          "text": [
            "/usr/local/lib/python3.7/dist-packages/ipykernel_launcher.py:5: RuntimeWarning: invalid value encountered in sqrt\n",
            "  \"\"\"\n"
          ]
        },
        {
          "output_type": "stream",
          "name": "stdout",
          "text": [
            "argmaxの出力が観測点集合内の要素になっています\n",
            "max_indexの要素は 1\n",
            "argmaxの出力で観測できるものがありませんでした\n",
            "1.8868424345884642\n",
            "x_next is here 1.8868424345884642\n",
            "y is here 0.9525761280528616\n",
            "現在 21回目の実験です。\n"
          ]
        },
        {
          "output_type": "stream",
          "name": "stderr",
          "text": [
            "/usr/local/lib/python3.7/dist-packages/ipykernel_launcher.py:5: RuntimeWarning: invalid value encountered in sqrt\n",
            "  \"\"\"\n"
          ]
        },
        {
          "output_type": "stream",
          "name": "stdout",
          "text": [
            "argmaxの出力が観測点集合内の要素になっています\n",
            "max_indexの要素は 1\n",
            "argmaxの出力で観測できるものがありませんでした\n",
            "9.170054232099936\n",
            "x_next is here 9.170054232099936\n",
            "y is here 0.2557265595312229\n",
            "現在 22回目の実験です。\n"
          ]
        },
        {
          "output_type": "stream",
          "name": "stderr",
          "text": [
            "/usr/local/lib/python3.7/dist-packages/ipykernel_launcher.py:5: RuntimeWarning: invalid value encountered in sqrt\n",
            "  \"\"\"\n"
          ]
        },
        {
          "output_type": "stream",
          "name": "stdout",
          "text": [
            "argmaxの出力が観測点集合内の要素になっています\n",
            "max_indexの要素は 1\n",
            "argmaxの出力で観測できるものがありませんでした\n",
            "4.855474531674314\n",
            "x_next is here 4.855474531674314\n",
            "y is here -0.9853339988810753\n",
            "現在 23回目の実験です。\n"
          ]
        },
        {
          "output_type": "stream",
          "name": "stderr",
          "text": [
            "/usr/local/lib/python3.7/dist-packages/ipykernel_launcher.py:5: RuntimeWarning: invalid value encountered in sqrt\n",
            "  \"\"\"\n"
          ]
        },
        {
          "output_type": "stream",
          "name": "stdout",
          "text": [
            "argmaxの出力が観測点集合内の要素になっています\n",
            "max_indexの要素は 1\n",
            "argmaxの出力で観測できるものがありませんでした\n",
            "7.484474990534241\n",
            "x_next is here 7.484474990534241\n",
            "y is here 0.9377153363675793\n",
            "現在 24回目の実験です。\n"
          ]
        },
        {
          "output_type": "stream",
          "name": "stderr",
          "text": [
            "/usr/local/lib/python3.7/dist-packages/ipykernel_launcher.py:5: RuntimeWarning: invalid value encountered in sqrt\n",
            "  \"\"\"\n"
          ]
        },
        {
          "output_type": "stream",
          "name": "stdout",
          "text": [
            "7.9247382252715495\n",
            "x_next is here 7.9247382252715495\n",
            "y is here 1.0026908353840465\n",
            "現在 25回目の実験です。\n"
          ]
        },
        {
          "output_type": "stream",
          "name": "stderr",
          "text": [
            "/usr/local/lib/python3.7/dist-packages/ipykernel_launcher.py:5: RuntimeWarning: invalid value encountered in sqrt\n",
            "  \"\"\"\n"
          ]
        },
        {
          "output_type": "stream",
          "name": "stdout",
          "text": [
            "7.9373171748354725\n",
            "x_next is here 7.9373171748354725\n",
            "y is here 1.0040217411358185\n",
            "現在 26回目の実験です。\n"
          ]
        },
        {
          "output_type": "stream",
          "name": "stderr",
          "text": [
            "/usr/local/lib/python3.7/dist-packages/ipykernel_launcher.py:5: RuntimeWarning: invalid value encountered in sqrt\n",
            "  \"\"\"\n"
          ]
        },
        {
          "output_type": "stream",
          "name": "stdout",
          "text": [
            "7.9121592757076264\n",
            "x_next is here 7.9121592757076264\n",
            "y is here 1.0004578374811495\n",
            "現在 27回目の実験です。\n"
          ]
        },
        {
          "output_type": "stream",
          "name": "stderr",
          "text": [
            "/usr/local/lib/python3.7/dist-packages/ipykernel_launcher.py:5: RuntimeWarning: invalid value encountered in sqrt\n",
            "  \"\"\"\n"
          ]
        },
        {
          "output_type": "stream",
          "name": "stdout",
          "text": [
            "7.9498961243993955\n",
            "x_next is here 7.9498961243993955\n",
            "y is here 0.9960681758956592\n",
            "現在 28回目の実験です。\n"
          ]
        },
        {
          "output_type": "stream",
          "name": "stderr",
          "text": [
            "/usr/local/lib/python3.7/dist-packages/ipykernel_launcher.py:5: RuntimeWarning: invalid value encountered in sqrt\n",
            "  \"\"\"\n"
          ]
        },
        {
          "output_type": "stream",
          "name": "stdout",
          "text": [
            "7.899580326143703\n",
            "x_next is here 7.899580326143703\n",
            "y is here 1.0022502376544498\n",
            "現在 29回目の実験です。\n"
          ]
        },
        {
          "output_type": "stream",
          "name": "stderr",
          "text": [
            "/usr/local/lib/python3.7/dist-packages/ipykernel_launcher.py:5: RuntimeWarning: invalid value encountered in sqrt\n",
            "  \"\"\"\n"
          ]
        },
        {
          "output_type": "stream",
          "name": "stdout",
          "text": [
            "7.9624750739633186\n",
            "x_next is here 7.9624750739633186\n",
            "y is here 0.9976175392806653\n",
            "現在 30回目の実験です。\n"
          ]
        },
        {
          "output_type": "stream",
          "name": "stderr",
          "text": [
            "/usr/local/lib/python3.7/dist-packages/ipykernel_launcher.py:5: RuntimeWarning: invalid value encountered in sqrt\n",
            "  \"\"\"\n"
          ]
        },
        {
          "output_type": "stream",
          "name": "stdout",
          "text": [
            "7.88700137657978\n",
            "x_next is here 7.88700137657978\n",
            "y is here 1.009165738132127\n",
            "現在 31回目の実験です。\n"
          ]
        },
        {
          "output_type": "stream",
          "name": "stderr",
          "text": [
            "/usr/local/lib/python3.7/dist-packages/ipykernel_launcher.py:5: RuntimeWarning: invalid value encountered in sqrt\n",
            "  \"\"\"\n"
          ]
        },
        {
          "output_type": "stream",
          "name": "stdout",
          "text": [
            "7.874422427015857\n",
            "x_next is here 7.874422427015857\n",
            "y is here 0.9998955592870713\n",
            "現在 32回目の実験です。\n"
          ]
        },
        {
          "output_type": "stream",
          "name": "stderr",
          "text": [
            "/usr/local/lib/python3.7/dist-packages/ipykernel_launcher.py:5: RuntimeWarning: invalid value encountered in sqrt\n",
            "  \"\"\"\n"
          ]
        },
        {
          "output_type": "stream",
          "name": "stdout",
          "text": [
            "7.9750540235272425\n",
            "x_next is here 7.9750540235272425\n",
            "y is here 0.9972358149405705\n",
            "現在 33回目の実験です。\n"
          ]
        },
        {
          "output_type": "stream",
          "name": "stderr",
          "text": [
            "/usr/local/lib/python3.7/dist-packages/ipykernel_launcher.py:5: RuntimeWarning: invalid value encountered in sqrt\n",
            "  \"\"\"\n"
          ]
        },
        {
          "output_type": "stream",
          "name": "stdout",
          "text": [
            "7.861843477451934\n",
            "x_next is here 7.861843477451934\n",
            "y is here 1.0079745278058607\n",
            "現在 34回目の実験です。\n"
          ]
        },
        {
          "output_type": "stream",
          "name": "stderr",
          "text": [
            "/usr/local/lib/python3.7/dist-packages/ipykernel_launcher.py:5: RuntimeWarning: invalid value encountered in sqrt\n",
            "  \"\"\"\n"
          ]
        },
        {
          "output_type": "stream",
          "name": "stdout",
          "text": [
            "7.849264527888011\n",
            "x_next is here 7.849264527888011\n",
            "y is here 1.0090498644638624\n",
            "現在 35回目の実験です。\n"
          ]
        },
        {
          "output_type": "stream",
          "name": "stderr",
          "text": [
            "/usr/local/lib/python3.7/dist-packages/ipykernel_launcher.py:5: RuntimeWarning: invalid value encountered in sqrt\n",
            "  \"\"\"\n"
          ]
        },
        {
          "output_type": "stream",
          "name": "stdout",
          "text": [
            "7.836685578324088\n",
            "x_next is here 7.836685578324088\n",
            "y is here 1.0072441023920449\n",
            "現在 36回目の実験です。\n"
          ]
        },
        {
          "output_type": "stream",
          "name": "stderr",
          "text": [
            "/usr/local/lib/python3.7/dist-packages/ipykernel_launcher.py:5: RuntimeWarning: invalid value encountered in sqrt\n",
            "  \"\"\"\n"
          ]
        },
        {
          "output_type": "stream",
          "name": "stdout",
          "text": [
            "7.9876329730911655\n",
            "x_next is here 7.9876329730911655\n",
            "y is here 0.9927558732836327\n",
            "現在 37回目の実験です。\n"
          ]
        },
        {
          "output_type": "stream",
          "name": "stderr",
          "text": [
            "/usr/local/lib/python3.7/dist-packages/ipykernel_launcher.py:5: RuntimeWarning: invalid value encountered in sqrt\n",
            "  \"\"\"\n"
          ]
        },
        {
          "output_type": "stream",
          "name": "stdout",
          "text": [
            "7.824106628760165\n",
            "x_next is here 7.824106628760165\n",
            "y is here 1.0083276258310936\n",
            "現在 38回目の実験です。\n"
          ]
        },
        {
          "output_type": "stream",
          "name": "stderr",
          "text": [
            "/usr/local/lib/python3.7/dist-packages/ipykernel_launcher.py:5: RuntimeWarning: invalid value encountered in sqrt\n",
            "  \"\"\"\n"
          ]
        },
        {
          "output_type": "stream",
          "name": "stdout",
          "text": [
            "7.811527679196242\n",
            "x_next is here 7.811527679196242\n",
            "y is here 1.0002374923417408\n",
            "現在 39回目の実験です。\n"
          ]
        },
        {
          "output_type": "stream",
          "name": "stderr",
          "text": [
            "/usr/local/lib/python3.7/dist-packages/ipykernel_launcher.py:5: RuntimeWarning: invalid value encountered in sqrt\n",
            "  \"\"\"\n"
          ]
        },
        {
          "output_type": "stream",
          "name": "stdout",
          "text": [
            "7.798948729632318\n",
            "x_next is here 7.798948729632318\n",
            "y is here 1.005677490711203\n",
            "現在 40回目の実験です。\n"
          ]
        },
        {
          "output_type": "stream",
          "name": "stderr",
          "text": [
            "/usr/local/lib/python3.7/dist-packages/ipykernel_launcher.py:5: RuntimeWarning: invalid value encountered in sqrt\n",
            "  \"\"\"\n"
          ]
        },
        {
          "output_type": "stream",
          "name": "stdout",
          "text": [
            "8.000211922655089\n",
            "x_next is here 8.000211922655089\n",
            "y is here 0.9978269337649148\n",
            "現在 41回目の実験です。\n"
          ]
        },
        {
          "output_type": "stream",
          "name": "stderr",
          "text": [
            "/usr/local/lib/python3.7/dist-packages/ipykernel_launcher.py:5: RuntimeWarning: invalid value encountered in sqrt\n",
            "  \"\"\"\n"
          ]
        },
        {
          "output_type": "stream",
          "name": "stdout",
          "text": [
            "7.786369780068395\n",
            "x_next is here 7.786369780068395\n",
            "y is here 1.006116172551029\n",
            "現在 42回目の実験です。\n"
          ]
        },
        {
          "output_type": "stream",
          "name": "stderr",
          "text": [
            "/usr/local/lib/python3.7/dist-packages/ipykernel_launcher.py:5: RuntimeWarning: invalid value encountered in sqrt\n",
            "  \"\"\"\n"
          ]
        },
        {
          "output_type": "stream",
          "name": "stdout",
          "text": [
            "7.773790830504472\n",
            "x_next is here 7.773790830504472\n",
            "y is here 1.0020659647752166\n",
            "現在 43回目の実験です。\n"
          ]
        },
        {
          "output_type": "stream",
          "name": "stderr",
          "text": [
            "/usr/local/lib/python3.7/dist-packages/ipykernel_launcher.py:5: RuntimeWarning: invalid value encountered in sqrt\n",
            "  \"\"\"\n"
          ]
        },
        {
          "output_type": "stream",
          "name": "stdout",
          "text": [
            "8.01279087221901\n",
            "x_next is here 8.01279087221901\n",
            "y is here 0.9920461883117402\n",
            "現在 44回目の実験です。\n"
          ]
        },
        {
          "output_type": "stream",
          "name": "stderr",
          "text": [
            "/usr/local/lib/python3.7/dist-packages/ipykernel_launcher.py:5: RuntimeWarning: invalid value encountered in sqrt\n",
            "  \"\"\"\n"
          ]
        },
        {
          "output_type": "stream",
          "name": "stdout",
          "text": [
            "7.761211880940549\n",
            "x_next is here 7.761211880940549\n",
            "y is here 0.9977512830521442\n",
            "現在 45回目の実験です。\n"
          ]
        },
        {
          "output_type": "stream",
          "name": "stderr",
          "text": [
            "/usr/local/lib/python3.7/dist-packages/ipykernel_launcher.py:5: RuntimeWarning: invalid value encountered in sqrt\n",
            "  \"\"\"\n"
          ]
        },
        {
          "output_type": "stream",
          "name": "stdout",
          "text": [
            "7.748632931376626\n",
            "x_next is here 7.748632931376626\n",
            "y is here 0.9989317312128103\n",
            "現在 46回目の実験です。\n"
          ]
        },
        {
          "output_type": "stream",
          "name": "stderr",
          "text": [
            "/usr/local/lib/python3.7/dist-packages/ipykernel_launcher.py:5: RuntimeWarning: invalid value encountered in sqrt\n",
            "  \"\"\"\n"
          ]
        },
        {
          "output_type": "stream",
          "name": "stdout",
          "text": [
            "8.025369821782935\n",
            "x_next is here 8.025369821782935\n",
            "y is here 0.986912661852907\n",
            "現在 47回目の実験です。\n"
          ]
        },
        {
          "output_type": "stream",
          "name": "stderr",
          "text": [
            "/usr/local/lib/python3.7/dist-packages/ipykernel_launcher.py:5: RuntimeWarning: invalid value encountered in sqrt\n",
            "  \"\"\"\n"
          ]
        },
        {
          "output_type": "stream",
          "name": "stdout",
          "text": [
            "7.736053981812703\n",
            "x_next is here 7.736053981812703\n",
            "y is here 0.9983752323009154\n",
            "現在 48回目の実験です。\n"
          ]
        },
        {
          "output_type": "stream",
          "name": "stderr",
          "text": [
            "/usr/local/lib/python3.7/dist-packages/ipykernel_launcher.py:5: RuntimeWarning: invalid value encountered in sqrt\n",
            "  \"\"\"\n"
          ]
        },
        {
          "output_type": "stream",
          "name": "stdout",
          "text": [
            "7.72347503224878\n",
            "x_next is here 7.72347503224878\n",
            "y is here 0.9957843679931521\n",
            "現在 49回目の実験です。\n"
          ]
        },
        {
          "output_type": "stream",
          "name": "stderr",
          "text": [
            "/usr/local/lib/python3.7/dist-packages/ipykernel_launcher.py:5: RuntimeWarning: invalid value encountered in sqrt\n",
            "  \"\"\"\n"
          ]
        },
        {
          "output_type": "stream",
          "name": "stdout",
          "text": [
            "8.037948771346857\n",
            "x_next is here 8.037948771346857\n",
            "y is here 0.9842932688405192\n",
            "現在 50回目の実験です。\n"
          ]
        },
        {
          "output_type": "stream",
          "name": "stderr",
          "text": [
            "/usr/local/lib/python3.7/dist-packages/ipykernel_launcher.py:5: RuntimeWarning: invalid value encountered in sqrt\n",
            "  \"\"\"\n"
          ]
        },
        {
          "output_type": "stream",
          "name": "stdout",
          "text": [
            "7.710896082684857\n",
            "x_next is here 7.710896082684857\n",
            "y is here 0.999592926938725\n",
            "現在 51回目の実験です。\n"
          ]
        },
        {
          "output_type": "stream",
          "name": "stderr",
          "text": [
            "/usr/local/lib/python3.7/dist-packages/ipykernel_launcher.py:5: RuntimeWarning: invalid value encountered in sqrt\n",
            "  \"\"\"\n"
          ]
        },
        {
          "output_type": "stream",
          "name": "stdout",
          "text": [
            "7.698317133120934\n",
            "x_next is here 7.698317133120934\n",
            "y is here 0.9924714522579516\n",
            "現在 52回目の実験です。\n"
          ]
        },
        {
          "output_type": "stream",
          "name": "stderr",
          "text": [
            "/usr/local/lib/python3.7/dist-packages/ipykernel_launcher.py:5: RuntimeWarning: invalid value encountered in sqrt\n",
            "  \"\"\"\n"
          ]
        },
        {
          "output_type": "stream",
          "name": "stdout",
          "text": [
            "argmaxの出力が観測点集合内の要素になっています\n",
            "max_indexの要素は 1\n",
            "argmaxの出力で観測できるものがありませんでした\n",
            "4.742263985599006\n",
            "x_next is here 4.742263985599006\n",
            "y is here -0.9967280742171838\n",
            "現在 53回目の実験です。\n"
          ]
        },
        {
          "output_type": "stream",
          "name": "stderr",
          "text": [
            "/usr/local/lib/python3.7/dist-packages/ipykernel_launcher.py:5: RuntimeWarning: invalid value encountered in sqrt\n",
            "  \"\"\"\n"
          ]
        },
        {
          "output_type": "stream",
          "name": "stdout",
          "text": [
            "argmaxの出力が観測点集合内の要素になっています\n",
            "max_indexの要素は 1\n",
            "argmaxの出力で観測できるものがありませんでした\n",
            "1.5723686954903868\n",
            "x_next is here 1.5723686954903868\n",
            "y is here 1.0019855283828107\n",
            "現在 54回目の実験です。\n"
          ]
        },
        {
          "output_type": "stream",
          "name": "stderr",
          "text": [
            "/usr/local/lib/python3.7/dist-packages/ipykernel_launcher.py:5: RuntimeWarning: invalid value encountered in sqrt\n",
            "  \"\"\"\n"
          ]
        },
        {
          "output_type": "stream",
          "name": "stdout",
          "text": [
            "argmaxの出力が観測点集合内の要素になっています\n",
            "max_indexの要素は 1\n",
            "argmaxの出力で観測できるものがありませんでした\n",
            "12.27705477438894\n",
            "x_next is here 12.27705477438894\n",
            "y is here -0.27797388246629073\n",
            "現在 55回目の実験です。\n"
          ]
        },
        {
          "output_type": "stream",
          "name": "stderr",
          "text": [
            "/usr/local/lib/python3.7/dist-packages/ipykernel_launcher.py:5: RuntimeWarning: invalid value encountered in sqrt\n",
            "  \"\"\"\n"
          ]
        },
        {
          "output_type": "stream",
          "name": "stdout",
          "text": [
            "argmaxの出力が観測点集合内の要素になっています\n",
            "max_indexの要素は 1\n",
            "argmaxの出力で観測できるものがありませんでした\n",
            "1.8742634850245412\n",
            "x_next is here 1.8742634850245412\n",
            "y is here 0.963401830280169\n",
            "現在 56回目の実験です。\n"
          ]
        },
        {
          "output_type": "stream",
          "name": "stderr",
          "text": [
            "/usr/local/lib/python3.7/dist-packages/ipykernel_launcher.py:5: RuntimeWarning: invalid value encountered in sqrt\n",
            "  \"\"\"\n"
          ]
        },
        {
          "output_type": "stream",
          "name": "stdout",
          "text": [
            "argmaxの出力が観測点集合内の要素になっています\n",
            "max_indexの要素は 1\n",
            "argmaxの出力で観測できるものがありませんでした\n",
            "6.151106336758393\n",
            "x_next is here 6.151106336758393\n",
            "y is here -0.1276627503403229\n",
            "現在 57回目の実験です。\n"
          ]
        },
        {
          "output_type": "stream",
          "name": "stderr",
          "text": [
            "/usr/local/lib/python3.7/dist-packages/ipykernel_launcher.py:5: RuntimeWarning: invalid value encountered in sqrt\n",
            "  \"\"\"\n"
          ]
        },
        {
          "output_type": "stream",
          "name": "stdout",
          "text": [
            "argmaxの出力が観測点集合内の要素になっています\n",
            "max_indexの要素は 1\n",
            "argmaxの出力で観測できるものがありませんでした\n",
            "2.629000458859927\n",
            "x_next is here 2.629000458859927\n",
            "y is here 0.49939591473328115\n",
            "現在 58回目の実験です。\n"
          ]
        },
        {
          "output_type": "stream",
          "name": "stderr",
          "text": [
            "/usr/local/lib/python3.7/dist-packages/ipykernel_launcher.py:5: RuntimeWarning: invalid value encountered in sqrt\n",
            "  \"\"\"\n"
          ]
        },
        {
          "output_type": "stream",
          "name": "stdout",
          "text": [
            "argmaxの出力が観測点集合内の要素になっています\n",
            "max_indexの要素は 1\n",
            "argmaxの出力で観測できるものがありませんでした\n",
            "1.0817896624973862\n",
            "x_next is here 1.0817896624973862\n",
            "y is here 0.8904534000831082\n",
            "現在 59回目の実験です。\n"
          ]
        },
        {
          "output_type": "stream",
          "name": "stderr",
          "text": [
            "/usr/local/lib/python3.7/dist-packages/ipykernel_launcher.py:5: RuntimeWarning: invalid value encountered in sqrt\n",
            "  \"\"\"\n"
          ]
        },
        {
          "output_type": "stream",
          "name": "stdout",
          "text": [
            "argmaxの出力が観測点集合内の要素になっています\n",
            "max_indexの要素は 1\n",
            "argmaxの出力で観測できるものがありませんでした\n",
            "2.7170531058073886\n",
            "x_next is here 2.7170531058073886\n",
            "y is here 0.41419465060871313\n",
            "現在 60回目の実験です。\n"
          ]
        },
        {
          "output_type": "stream",
          "name": "stderr",
          "text": [
            "/usr/local/lib/python3.7/dist-packages/ipykernel_launcher.py:5: RuntimeWarning: invalid value encountered in sqrt\n",
            "  \"\"\"\n"
          ]
        },
        {
          "output_type": "stream",
          "name": "stdout",
          "text": [
            "argmaxの出力が観測点集合内の要素になっています\n",
            "max_indexの要素は 1\n",
            "argmaxの出力で観測できるものがありませんでした\n",
            "12.100949480494018\n",
            "x_next is here 12.100949480494018\n",
            "y is here -0.4408864941897237\n",
            "現在 61回目の実験です。\n"
          ]
        },
        {
          "output_type": "stream",
          "name": "stderr",
          "text": [
            "/usr/local/lib/python3.7/dist-packages/ipykernel_launcher.py:5: RuntimeWarning: invalid value encountered in sqrt\n",
            "  \"\"\"\n"
          ]
        },
        {
          "output_type": "stream",
          "name": "stdout",
          "text": [
            "argmaxの出力が観測点集合内の要素になっています\n",
            "max_indexの要素は 1\n",
            "argmaxの出力で観測できるものがありませんでした\n",
            "4.276842851733853\n",
            "x_next is here 4.276842851733853\n",
            "y is here -0.906399720415035\n",
            "現在 62回目の実験です。\n"
          ]
        },
        {
          "output_type": "stream",
          "name": "stderr",
          "text": [
            "/usr/local/lib/python3.7/dist-packages/ipykernel_launcher.py:5: RuntimeWarning: invalid value encountered in sqrt\n",
            "  \"\"\"\n"
          ]
        },
        {
          "output_type": "stream",
          "name": "stdout",
          "text": [
            "argmaxの出力が観測点集合内の要素になっています\n",
            "max_indexの要素は 1\n",
            "argmaxの出力で観測できるものがありませんでした\n",
            "4.616474489959776\n",
            "x_next is here 4.616474489959776\n",
            "y is here -0.9919367191002013\n",
            "現在 63回目の実験です。\n"
          ]
        },
        {
          "output_type": "stream",
          "name": "stderr",
          "text": [
            "/usr/local/lib/python3.7/dist-packages/ipykernel_launcher.py:5: RuntimeWarning: invalid value encountered in sqrt\n",
            "  \"\"\"\n"
          ]
        },
        {
          "output_type": "stream",
          "name": "stdout",
          "text": [
            "argmaxの出力が観測点集合内の要素になっています\n",
            "max_indexの要素は 1\n",
            "argmaxの出力で観測できるものがありませんでした\n",
            "4.55357974214016\n",
            "x_next is here 4.55357974214016\n",
            "y is here -0.9831714872937133\n",
            "現在 64回目の実験です。\n"
          ]
        },
        {
          "output_type": "stream",
          "name": "stderr",
          "text": [
            "/usr/local/lib/python3.7/dist-packages/ipykernel_launcher.py:5: RuntimeWarning: invalid value encountered in sqrt\n",
            "  \"\"\"\n"
          ]
        },
        {
          "output_type": "stream",
          "name": "stdout",
          "text": [
            "argmaxの出力が観測点集合内の要素になっています\n",
            "max_indexの要素は 1\n",
            "argmaxの出力で観測できるものがありませんでした\n",
            "2.905737349266235\n",
            "x_next is here 2.905737349266235\n",
            "y is here 0.24087143435715072\n",
            "現在 65回目の実験です。\n"
          ]
        },
        {
          "output_type": "stream",
          "name": "stderr",
          "text": [
            "/usr/local/lib/python3.7/dist-packages/ipykernel_launcher.py:5: RuntimeWarning: invalid value encountered in sqrt\n",
            "  \"\"\"\n"
          ]
        },
        {
          "output_type": "stream",
          "name": "stdout",
          "text": [
            "argmaxの出力が観測点集合内の要素になっています\n",
            "max_indexの要素は 1\n",
            "argmaxの出力で観測できるものがありませんでした\n",
            "1.7987897876410026\n",
            "x_next is here 1.7987897876410026\n",
            "y is here 0.9792523017045648\n",
            "現在 66回目の実験です。\n"
          ]
        },
        {
          "output_type": "stream",
          "name": "stderr",
          "text": [
            "/usr/local/lib/python3.7/dist-packages/ipykernel_launcher.py:5: RuntimeWarning: invalid value encountered in sqrt\n",
            "  \"\"\"\n"
          ]
        },
        {
          "output_type": "stream",
          "name": "stdout",
          "text": [
            "argmaxの出力が観測点集合内の要素になっています\n",
            "max_indexの要素は 1\n",
            "argmaxの出力で観測できるものがありませんでした\n",
            "6.276895832397624\n",
            "x_next is here 6.276895832397624\n",
            "y is here -0.002796322951844483\n",
            "現在 67回目の実験です。\n"
          ]
        },
        {
          "output_type": "stream",
          "name": "stderr",
          "text": [
            "/usr/local/lib/python3.7/dist-packages/ipykernel_launcher.py:5: RuntimeWarning: invalid value encountered in sqrt\n",
            "  \"\"\"\n"
          ]
        },
        {
          "output_type": "stream",
          "name": "stdout",
          "text": [
            "argmaxの出力が観測点集合内の要素になっています\n",
            "max_indexの要素は 1\n",
            "argmaxの出力で観測できるものがありませんでした\n",
            "8.604001501723397\n",
            "x_next is here 8.604001501723397\n",
            "y is here 0.7403527645753515\n",
            "現在 68回目の実験です。\n"
          ]
        },
        {
          "output_type": "stream",
          "name": "stderr",
          "text": [
            "/usr/local/lib/python3.7/dist-packages/ipykernel_launcher.py:5: RuntimeWarning: invalid value encountered in sqrt\n",
            "  \"\"\"\n"
          ]
        },
        {
          "output_type": "stream",
          "name": "stdout",
          "text": [
            "argmaxの出力が観測点集合内の要素になっています\n",
            "max_indexの要素は 1\n",
            "argmaxの出力で観測できるものがありませんでした\n",
            "4.767421884726853\n",
            "x_next is here 4.767421884726853\n",
            "y is here -0.9980463867936418\n",
            "現在 69回目の実験です。\n"
          ]
        },
        {
          "output_type": "stream",
          "name": "stderr",
          "text": [
            "/usr/local/lib/python3.7/dist-packages/ipykernel_launcher.py:5: RuntimeWarning: invalid value encountered in sqrt\n",
            "  \"\"\"\n"
          ]
        },
        {
          "output_type": "stream",
          "name": "stdout",
          "text": [
            "argmaxの出力が観測点集合内の要素になっています\n",
            "max_indexの要素は 1\n",
            "argmaxの出力で観測できるものがありませんでした\n",
            "10.767580826718168\n",
            "x_next is here 10.767580826718168\n",
            "y is here -0.9668513509663585\n",
            "現在 70回目の実験です。\n"
          ]
        },
        {
          "output_type": "stream",
          "name": "stderr",
          "text": [
            "/usr/local/lib/python3.7/dist-packages/ipykernel_launcher.py:5: RuntimeWarning: invalid value encountered in sqrt\n",
            "  \"\"\"\n"
          ]
        },
        {
          "output_type": "stream",
          "name": "stdout",
          "text": [
            "argmaxの出力が観測点集合内の要素になっています\n",
            "max_indexの要素は 1\n",
            "argmaxの出力で観測できるものがありませんでした\n",
            "5.459264110742623\n",
            "x_next is here 5.459264110742623\n",
            "y is here -0.7335692818578958\n",
            "現在 71回目の実験です。\n"
          ]
        },
        {
          "output_type": "stream",
          "name": "stderr",
          "text": [
            "/usr/local/lib/python3.7/dist-packages/ipykernel_launcher.py:5: RuntimeWarning: invalid value encountered in sqrt\n",
            "  \"\"\"\n"
          ]
        },
        {
          "output_type": "stream",
          "name": "stdout",
          "text": [
            "argmaxの出力が観測点集合内の要素になっています\n",
            "max_indexの要素は 1\n",
            "argmaxの出力で観測できるものがありませんでした\n",
            "1.6226844937460791\n",
            "x_next is here 1.6226844937460791\n",
            "y is here 1.0027297535318922\n",
            "現在 72回目の実験です。\n"
          ]
        },
        {
          "output_type": "stream",
          "name": "stderr",
          "text": [
            "/usr/local/lib/python3.7/dist-packages/ipykernel_launcher.py:5: RuntimeWarning: invalid value encountered in sqrt\n",
            "  \"\"\"\n"
          ]
        },
        {
          "output_type": "stream",
          "name": "stdout",
          "text": [
            "1.6101055441821561\n",
            "x_next is here 1.6101055441821561\n",
            "y is here 0.9993601557267913\n",
            "現在 73回目の実験です。\n"
          ]
        },
        {
          "output_type": "stream",
          "name": "stderr",
          "text": [
            "/usr/local/lib/python3.7/dist-packages/ipykernel_launcher.py:5: RuntimeWarning: invalid value encountered in sqrt\n",
            "  \"\"\"\n"
          ]
        },
        {
          "output_type": "stream",
          "name": "stdout",
          "text": [
            "1.597526594618233\n",
            "x_next is here 1.597526594618233\n",
            "y is here 1.007163584020306\n",
            "現在 74回目の実験です。\n"
          ]
        },
        {
          "output_type": "stream",
          "name": "stderr",
          "text": [
            "/usr/local/lib/python3.7/dist-packages/ipykernel_launcher.py:5: RuntimeWarning: invalid value encountered in sqrt\n",
            "  \"\"\"\n"
          ]
        },
        {
          "output_type": "stream",
          "name": "stdout",
          "text": [
            "1.5849476450543099\n",
            "x_next is here 1.5849476450543099\n",
            "y is here 1.0095676910770157\n",
            "現在 75回目の実験です。\n"
          ]
        },
        {
          "output_type": "stream",
          "name": "stderr",
          "text": [
            "/usr/local/lib/python3.7/dist-packages/ipykernel_launcher.py:5: RuntimeWarning: invalid value encountered in sqrt\n",
            "  \"\"\"\n"
          ]
        },
        {
          "output_type": "stream",
          "name": "stdout",
          "text": [
            "1.6352634433100024\n",
            "x_next is here 1.6352634433100024\n",
            "y is here 1.0031860325280384\n",
            "現在 76回目の実験です。\n"
          ]
        },
        {
          "output_type": "stream",
          "name": "stderr",
          "text": [
            "/usr/local/lib/python3.7/dist-packages/ipykernel_launcher.py:5: RuntimeWarning: invalid value encountered in sqrt\n",
            "  \"\"\"\n"
          ]
        },
        {
          "output_type": "stream",
          "name": "stdout",
          "text": [
            "1.5597897459264638\n",
            "x_next is here 1.5597897459264638\n",
            "y is here 1.0018407360376418\n",
            "現在 77回目の実験です。\n"
          ]
        },
        {
          "output_type": "stream",
          "name": "stderr",
          "text": [
            "/usr/local/lib/python3.7/dist-packages/ipykernel_launcher.py:5: RuntimeWarning: invalid value encountered in sqrt\n",
            "  \"\"\"\n"
          ]
        },
        {
          "output_type": "stream",
          "name": "stdout",
          "text": [
            "1.6478423928739254\n",
            "x_next is here 1.6478423928739254\n",
            "y is here 1.000094895817967\n",
            "現在 78回目の実験です。\n"
          ]
        },
        {
          "output_type": "stream",
          "name": "stderr",
          "text": [
            "/usr/local/lib/python3.7/dist-packages/ipykernel_launcher.py:5: RuntimeWarning: invalid value encountered in sqrt\n",
            "  \"\"\"\n"
          ]
        },
        {
          "output_type": "stream",
          "name": "stdout",
          "text": [
            "1.5472107963625406\n",
            "x_next is here 1.5472107963625406\n",
            "y is here 1.0018008953222597\n",
            "現在 79回目の実験です。\n"
          ]
        },
        {
          "output_type": "stream",
          "name": "stderr",
          "text": [
            "/usr/local/lib/python3.7/dist-packages/ipykernel_launcher.py:5: RuntimeWarning: invalid value encountered in sqrt\n",
            "  \"\"\"\n"
          ]
        },
        {
          "output_type": "stream",
          "name": "stdout",
          "text": [
            "1.6604213424378484\n",
            "x_next is here 1.6604213424378484\n",
            "y is here 0.9997024722475134\n",
            "現在 80回目の実験です。\n"
          ]
        },
        {
          "output_type": "stream",
          "name": "stderr",
          "text": [
            "/usr/local/lib/python3.7/dist-packages/ipykernel_launcher.py:5: RuntimeWarning: invalid value encountered in sqrt\n",
            "  \"\"\"\n"
          ]
        },
        {
          "output_type": "stream",
          "name": "stdout",
          "text": [
            "1.5346318467986175\n",
            "x_next is here 1.5346318467986175\n",
            "y is here 1.0061423998622565\n",
            "現在 81回目の実験です。\n"
          ]
        },
        {
          "output_type": "stream",
          "name": "stderr",
          "text": [
            "/usr/local/lib/python3.7/dist-packages/ipykernel_launcher.py:5: RuntimeWarning: invalid value encountered in sqrt\n",
            "  \"\"\"\n"
          ]
        },
        {
          "output_type": "stream",
          "name": "stdout",
          "text": [
            "1.5220528972346945\n",
            "x_next is here 1.5220528972346945\n",
            "y is here 1.001475300426632\n",
            "現在 82回目の実験です。\n"
          ]
        },
        {
          "output_type": "stream",
          "name": "stderr",
          "text": [
            "/usr/local/lib/python3.7/dist-packages/ipykernel_launcher.py:5: RuntimeWarning: invalid value encountered in sqrt\n",
            "  \"\"\"\n"
          ]
        },
        {
          "output_type": "stream",
          "name": "stdout",
          "text": [
            "1.6730002920017717\n",
            "x_next is here 1.6730002920017717\n",
            "y is here 0.997140517653122\n",
            "現在 83回目の実験です。\n"
          ]
        },
        {
          "output_type": "stream",
          "name": "stderr",
          "text": [
            "/usr/local/lib/python3.7/dist-packages/ipykernel_launcher.py:5: RuntimeWarning: invalid value encountered in sqrt\n",
            "  \"\"\"\n"
          ]
        },
        {
          "output_type": "stream",
          "name": "stdout",
          "text": [
            "1.5094739476707715\n",
            "x_next is here 1.5094739476707715\n",
            "y is here 0.9993789229439782\n",
            "現在 84回目の実験です。\n"
          ]
        },
        {
          "output_type": "stream",
          "name": "stderr",
          "text": [
            "/usr/local/lib/python3.7/dist-packages/ipykernel_launcher.py:5: RuntimeWarning: invalid value encountered in sqrt\n",
            "  \"\"\"\n"
          ]
        },
        {
          "output_type": "stream",
          "name": "stdout",
          "text": [
            "1.6855792415656947\n",
            "x_next is here 1.6855792415656947\n",
            "y is here 0.9951524089752586\n",
            "現在 85回目の実験です。\n"
          ]
        },
        {
          "output_type": "stream",
          "name": "stderr",
          "text": [
            "/usr/local/lib/python3.7/dist-packages/ipykernel_launcher.py:5: RuntimeWarning: invalid value encountered in sqrt\n",
            "  \"\"\"\n"
          ]
        },
        {
          "output_type": "stream",
          "name": "stdout",
          "text": [
            "1.4968949981068482\n",
            "x_next is here 1.4968949981068482\n",
            "y is here 1.0063723766336063\n",
            "現在 86回目の実験です。\n"
          ]
        },
        {
          "output_type": "stream",
          "name": "stderr",
          "text": [
            "/usr/local/lib/python3.7/dist-packages/ipykernel_launcher.py:5: RuntimeWarning: invalid value encountered in sqrt\n",
            "  \"\"\"\n"
          ]
        },
        {
          "output_type": "stream",
          "name": "stdout",
          "text": [
            "1.4843160485429252\n",
            "x_next is here 1.4843160485429252\n",
            "y is here 1.0042018466837936\n",
            "現在 87回目の実験です。\n"
          ]
        },
        {
          "output_type": "stream",
          "name": "stderr",
          "text": [
            "/usr/local/lib/python3.7/dist-packages/ipykernel_launcher.py:5: RuntimeWarning: invalid value encountered in sqrt\n",
            "  \"\"\"\n"
          ]
        },
        {
          "output_type": "stream",
          "name": "stdout",
          "text": [
            "1.4717370989790022\n",
            "x_next is here 1.4717370989790022\n",
            "y is here 1.0001788858267517\n",
            "現在 88回目の実験です。\n"
          ]
        },
        {
          "output_type": "stream",
          "name": "stderr",
          "text": [
            "/usr/local/lib/python3.7/dist-packages/ipykernel_launcher.py:5: RuntimeWarning: invalid value encountered in sqrt\n",
            "  \"\"\"\n"
          ]
        },
        {
          "output_type": "stream",
          "name": "stdout",
          "text": [
            "1.6981581911296177\n",
            "x_next is here 1.6981581911296177\n",
            "y is here 1.0003340305930197\n",
            "現在 89回目の実験です。\n"
          ]
        },
        {
          "output_type": "stream",
          "name": "stderr",
          "text": [
            "/usr/local/lib/python3.7/dist-packages/ipykernel_launcher.py:5: RuntimeWarning: invalid value encountered in sqrt\n",
            "  \"\"\"\n"
          ]
        },
        {
          "output_type": "stream",
          "name": "stdout",
          "text": [
            "1.459158149415079\n",
            "x_next is here 1.459158149415079\n",
            "y is here 1.0000510537539529\n",
            "現在 90回目の実験です。\n"
          ]
        },
        {
          "output_type": "stream",
          "name": "stderr",
          "text": [
            "/usr/local/lib/python3.7/dist-packages/ipykernel_launcher.py:5: RuntimeWarning: invalid value encountered in sqrt\n",
            "  \"\"\"\n"
          ]
        },
        {
          "output_type": "stream",
          "name": "stdout",
          "text": [
            "1.7107371406935408\n",
            "x_next is here 1.7107371406935408\n",
            "y is here 0.9909839385250538\n",
            "現在 91回目の実験です。\n"
          ]
        },
        {
          "output_type": "stream",
          "name": "stderr",
          "text": [
            "/usr/local/lib/python3.7/dist-packages/ipykernel_launcher.py:5: RuntimeWarning: invalid value encountered in sqrt\n",
            "  \"\"\"\n"
          ]
        },
        {
          "output_type": "stream",
          "name": "stdout",
          "text": [
            "1.446579199851156\n",
            "x_next is here 1.446579199851156\n",
            "y is here 0.9961773658587746\n",
            "現在 92回目の実験です。\n"
          ]
        },
        {
          "output_type": "stream",
          "name": "stderr",
          "text": [
            "/usr/local/lib/python3.7/dist-packages/ipykernel_launcher.py:5: RuntimeWarning: invalid value encountered in sqrt\n",
            "  \"\"\"\n"
          ]
        },
        {
          "output_type": "stream",
          "name": "stdout",
          "text": [
            "1.723316090257464\n",
            "x_next is here 1.723316090257464\n",
            "y is here 0.991145501340526\n",
            "現在 93回目の実験です。\n"
          ]
        },
        {
          "output_type": "stream",
          "name": "stderr",
          "text": [
            "/usr/local/lib/python3.7/dist-packages/ipykernel_launcher.py:5: RuntimeWarning: invalid value encountered in sqrt\n",
            "  \"\"\"\n"
          ]
        },
        {
          "output_type": "stream",
          "name": "stdout",
          "text": [
            "1.4340002502872329\n",
            "x_next is here 1.4340002502872329\n",
            "y is here 0.997997456868011\n",
            "現在 94回目の実験です。\n"
          ]
        },
        {
          "output_type": "stream",
          "name": "stderr",
          "text": [
            "/usr/local/lib/python3.7/dist-packages/ipykernel_launcher.py:5: RuntimeWarning: invalid value encountered in sqrt\n",
            "  \"\"\"\n"
          ]
        },
        {
          "output_type": "stream",
          "name": "stdout",
          "text": [
            "1.4214213007233096\n",
            "x_next is here 1.4214213007233096\n",
            "y is here 0.9899747785258917\n",
            "現在 95回目の実験です。\n"
          ]
        },
        {
          "output_type": "stream",
          "name": "stderr",
          "text": [
            "/usr/local/lib/python3.7/dist-packages/ipykernel_launcher.py:5: RuntimeWarning: invalid value encountered in sqrt\n",
            "  \"\"\"\n"
          ]
        },
        {
          "output_type": "stream",
          "name": "stdout",
          "text": [
            "1.735895039821387\n",
            "x_next is here 1.735895039821387\n",
            "y is here 0.9939377423806866\n",
            "現在 96回目の実験です。\n"
          ]
        },
        {
          "output_type": "stream",
          "name": "stderr",
          "text": [
            "/usr/local/lib/python3.7/dist-packages/ipykernel_launcher.py:5: RuntimeWarning: invalid value encountered in sqrt\n",
            "  \"\"\"\n"
          ]
        },
        {
          "output_type": "stream",
          "name": "stdout",
          "text": [
            "argmaxの出力が観測点集合内の要素になっています\n",
            "max_indexの要素は 1\n",
            "argmaxの出力で観測できるものがありませんでした\n",
            "7.534790788789934\n",
            "x_next is here 7.534790788789934\n",
            "y is here 0.9583073173637178\n",
            "現在 97回目の実験です。\n"
          ]
        },
        {
          "output_type": "stream",
          "name": "stderr",
          "text": [
            "/usr/local/lib/python3.7/dist-packages/ipykernel_launcher.py:5: RuntimeWarning: invalid value encountered in sqrt\n",
            "  \"\"\"\n"
          ]
        },
        {
          "output_type": "stream",
          "name": "stdout",
          "text": [
            "7.685738183557011\n",
            "x_next is here 7.685738183557011\n",
            "y is here 0.9890858783201353\n",
            "現在 98回目の実験です。\n"
          ]
        },
        {
          "output_type": "stream",
          "name": "stderr",
          "text": [
            "/usr/local/lib/python3.7/dist-packages/ipykernel_launcher.py:5: RuntimeWarning: invalid value encountered in sqrt\n",
            "  \"\"\"\n"
          ]
        },
        {
          "output_type": "stream",
          "name": "stdout",
          "text": [
            "argmaxの出力が観測点集合内の要素になっています\n",
            "max_indexの要素は 1\n",
            "argmaxの出力で観測できるものがありませんでした\n",
            "6.817790663646317\n",
            "x_next is here 6.817790663646317\n",
            "y is here 0.5177988849268947\n",
            "現在 99回目の実験です。\n"
          ]
        },
        {
          "output_type": "stream",
          "name": "stderr",
          "text": [
            "/usr/local/lib/python3.7/dist-packages/ipykernel_launcher.py:5: RuntimeWarning: invalid value encountered in sqrt\n",
            "  \"\"\"\n"
          ]
        },
        {
          "output_type": "stream",
          "name": "stdout",
          "text": [
            "argmaxの出力が観測点集合内の要素になっています\n",
            "max_indexの要素は 1\n",
            "argmaxの出力で観測できるものがありませんでした\n",
            "6.956159108849471\n",
            "x_next is here 6.956159108849471\n",
            "y is here 0.6330894668310378\n"
          ]
        },
        {
          "output_type": "display_data",
          "data": {
            "text/plain": [
              "<Figure size 432x288 with 1 Axes>"
            ],
            "image/png": "[encoded data removed]"
          },
          "metadata": {
            "needs_background": "light"
          }
        }
      ]
    },
    {
      "cell_type": "code",
      "source": [
        ""
      ],
      "metadata": {
        "id": "ZBFUM22n9qIY"
      },
      "execution_count": 72,
      "outputs": []
    }
  ]
}